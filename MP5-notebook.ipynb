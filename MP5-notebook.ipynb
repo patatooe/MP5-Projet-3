{
 "cells": [
  {
   "cell_type": "code",
   "execution_count": 84,
   "metadata": {},
   "outputs": [],
   "source": [
    "import numpy as np\n",
    "import matplotlib.pyplot as plt\n",
    "import random\n",
    "import pandas as pd\n",
    "import math\n",
    "from scipy.optimize import curve_fit"
   ]
  },
  {
   "cell_type": "code",
   "execution_count": 85,
   "metadata": {},
   "outputs": [
    {
     "name": "stdout",
     "output_type": "stream",
     "text": [
      "   Dim     N      Vol    Vol_th       Inc   Err_rel\n",
      "0    3   100  4.19920  4.188790  0.091822  0.002485\n",
      "1    3   200  4.21080  4.188790  0.065039  0.005254\n",
      "2    3   400  4.22340  4.188790  0.048682  0.008262\n",
      "3    3   800  4.16200  4.188790  0.033381  0.006396\n",
      "4    3  1600  4.20305  4.188790  0.023571  0.003404\n",
      "5    6   100  5.18400  5.167713  0.360570  0.003152\n",
      "6    6   200  5.16480  5.167713  0.221324  0.000564\n",
      "7    6   400  5.30880  5.167713  0.161425  0.027302\n",
      "8    6   800  5.15520  5.167713  0.125100  0.002421\n",
      "9    6  1600  5.06200  5.167713  0.071524  0.020456\n"
     ]
    }
   ],
   "source": [
    "R = 1\n",
    "\n",
    "def evaluateVolume(Dim, N, Ness=100):\n",
    "# Fonction qui prend la moyenne de Ness essai de calcul du volume \n",
    "# d'une sphère en Dim dimensions avec N points\n",
    "    V_sphere = np.zeros(Ness)\n",
    "    for i in range(Ness):\n",
    "        N_int =0\n",
    "        N_tot = 0\n",
    "        V_tot=(2*R)**Dim\n",
    "        for n in range(N):  \n",
    "            # np.random.seed()  \n",
    "            # random_point = np.random.uniform(low=-R, high=R, size=Dim)\n",
    "            random_list = [random.uniform(-R, R) for _ in range(Dim)]\n",
    "            # if np.sum(random_point**2) <= R**2:\n",
    "            if sum(x**2 for x in random_list) <= R**2:\n",
    "                N_int += 1\n",
    "            N_tot+=1\n",
    "\n",
    "        V_sphere[i] = N_int/N_tot*V_tot\n",
    "    return np.mean(V_sphere), np.std(V_sphere) \n",
    "\n",
    "random_list = [random.uniform(-R, R) for _ in range(6)]\n",
    "\n",
    "results=[]\n",
    "for dim in [3, 6]:\n",
    "    for n in 100*np.array([1, 2, 4, 8, 16]):\n",
    "        volume, incertitude = evaluateVolume(dim, n)\n",
    "        volume_th = np.pi**((dim/2))/math.gamma(dim/2 + 1)\n",
    "        error = np.abs((volume - volume_th)/volume_th)\n",
    "        results.append({'Dim': dim, 'N': n, 'Vol': volume,'Vol_th' : volume_th, 'Inc' : incertitude/volume, 'Err_rel' : error})\n",
    "        \n",
    "df = pd.DataFrame(results)\n",
    "print(df)\n"
   ]
  },
  {
   "cell_type": "code",
   "execution_count": 98,
   "metadata": {},
   "outputs": [
    {
     "name": "stdout",
     "output_type": "stream",
     "text": [
      "<generator object <genexpr> at 0x000001BEDC714970>\n"
     ]
    },
    {
     "ename": "TypeError",
     "evalue": "loop of ufunc does not support argument 0 of type generator which has no callable log method",
     "output_type": "error",
     "traceback": [
      "\u001b[1;31m---------------------------------------------------------------------------\u001b[0m",
      "\u001b[1;31mAttributeError\u001b[0m                            Traceback (most recent call last)",
      "\u001b[1;31mAttributeError\u001b[0m: 'generator' object has no attribute 'log'",
      "\nThe above exception was the direct cause of the following exception:\n",
      "\u001b[1;31mTypeError\u001b[0m                                 Traceback (most recent call last)",
      "Cell \u001b[1;32mIn[98], line 15\u001b[0m\n\u001b[0;32m     13\u001b[0m \u001b[38;5;28mprint\u001b[39m(x_data_3)\n\u001b[0;32m     14\u001b[0m \u001b[38;5;66;03m# Plot for Dim = 3\u001b[39;00m\n\u001b[1;32m---> 15\u001b[0m p_opt_3, cov \u001b[38;5;241m=\u001b[39m curve_fit(power_function, \u001b[43mnp\u001b[49m\u001b[38;5;241;43m.\u001b[39;49m\u001b[43mlog\u001b[49m\u001b[43m(\u001b[49m\u001b[43mx_data_3\u001b[49m\u001b[43m)\u001b[49m, np\u001b[38;5;241m.\u001b[39mlog(y_data_3) )\n\u001b[0;32m     16\u001b[0m \u001b[38;5;28mprint\u001b[39m(p_opt_3)\n\u001b[0;32m     17\u001b[0m \u001b[38;5;66;03m# plt.loglog(df_dim3['N'], df_dim3['Err_rel'], marker='o', label='Dim = 3')\u001b[39;00m\n\u001b[0;32m     18\u001b[0m \u001b[38;5;66;03m# plt.loglog(x_data_3, power_function(x_data_3, p_opt_3))\u001b[39;00m\n\u001b[0;32m     19\u001b[0m \u001b[38;5;66;03m# Curve fit for Dim = 3\u001b[39;00m\n\u001b[1;32m   (...)\u001b[0m\n\u001b[0;32m     22\u001b[0m \n\u001b[0;32m     23\u001b[0m \u001b[38;5;66;03m# Plot for Dim = 6\u001b[39;00m\n",
      "\u001b[1;31mTypeError\u001b[0m: loop of ufunc does not support argument 0 of type generator which has no callable log method"
     ]
    }
   ],
   "source": [
    "# Separate DataFrames for each dimension\n",
    "df_dim3 = df[df['Dim'] == 3]\n",
    "df_dim6 = df[df['Dim'] == 6]\n",
    "\n",
    "def power_function(x, p, b):\n",
    "    return p*x+b\n",
    "\n",
    "x_data_3 = (np.array[i] for i in df_dim3['N'])\n",
    "y_data_3 = np.array([df_dim3['Err_rel']])\n",
    "x_data_6 = np.array([df_dim3['N']])\n",
    "y_data_6 = np.array([df_dim3['Err_rel']])\n",
    "\n",
    "print(x_data_3)\n",
    "# Plot for Dim = 3\n",
    "p_opt_3, cov = curve_fit(power_function, np.log(x_data_3), np.log(y_data_3) )\n",
    "print(p_opt_3)\n",
    "# plt.loglog(df_dim3['N'], df_dim3['Err_rel'], marker='o', label='Dim = 3')\n",
    "# plt.loglog(x_data_3, power_function(x_data_3, p_opt_3))\n",
    "# Curve fit for Dim = 3\n",
    "# p_opt_dim3, _ = curve_fit(power_function, np.array(df_dim3['N']), np.array(df_dim3['Err_rel']))\n",
    "# plt.plot(df_dim3['N'], power_function(df_dim3['N'], p_opt_dim3), 'r--', label=f'Fit (Dim = 3, p={p_opt_dim3[0]:.2f})')\n",
    "\n",
    "# Plot for Dim = 6\n",
    "plt.loglog(df_dim6['N'], df_dim6['Err_rel'], marker='o', label='Dim = 6')\n",
    "\n",
    "# Curve fit for Dim = 6\n",
    "# p_opt_dim6, _ = curve_fit(power_function, np.array(df_dim6['N']), np.array(df_dim6['Err_rel']))\n",
    "# plt.plot(df_dim6['N'], power_function(df_dim6['N'], p_opt_dim6), 'b--', label=f'Fit (Dim = 6, p={p_opt_dim6[0]:.2f})')\n",
    "\n",
    "plt.title('Relative Error vs N')\n",
    "plt.xlabel('N')\n",
    "plt.ylabel('Relative Error')\n",
    "plt.legend()\n",
    "\n",
    "plt.tight_layout()\n",
    "plt.show()"
   ]
  }
 ],
 "metadata": {
  "kernelspec": {
   "display_name": "Python 3",
   "language": "python",
   "name": "python3"
  },
  "language_info": {
   "codemirror_mode": {
    "name": "ipython",
    "version": 3
   },
   "file_extension": ".py",
   "mimetype": "text/x-python",
   "name": "python",
   "nbconvert_exporter": "python",
   "pygments_lexer": "ipython3",
   "version": "3.9.13"
  }
 },
 "nbformat": 4,
 "nbformat_minor": 2
}
