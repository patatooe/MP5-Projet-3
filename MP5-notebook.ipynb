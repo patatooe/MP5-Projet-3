{
 "cells": [
  {
   "cell_type": "code",
   "execution_count": 2,
   "metadata": {},
   "outputs": [],
   "source": [
    "import numpy as np\n",
    "import matplotlib.pyplot as plt\n",
    "import random"
   ]
  },
  {
   "cell_type": "code",
   "execution_count": 15,
   "metadata": {},
   "outputs": [
    {
     "name": "stdout",
     "output_type": "stream",
     "text": [
      "3.08\n"
     ]
    }
   ],
   "source": [
    "R = 1\n",
    "def evaluateVolume(Dim, N):\n",
    "    N_int =0\n",
    "    N_tot = 0\n",
    "    A_tot=(2*R)**Dim\n",
    "    # N : nombre de points\n",
    "    # Dim : dimmensions de la spère\n",
    "    for n in range(N):    \n",
    "        random_list = [random.uniform(0, R) for _ in range(Dim)]\n",
    "        if sum(x**2 for x in random_list) <= R**2:\n",
    "            N_int+=1\n",
    "        N_tot+=1\n",
    "    \n",
    "    Area = N_int/N_tot*A_tot\n",
    "    return Area\n",
    "\n",
    "print(evaluateVolume(2,100))"
   ]
  }
 ],
 "metadata": {
  "kernelspec": {
   "display_name": "Python 3",
   "language": "python",
   "name": "python3"
  },
  "language_info": {
   "codemirror_mode": {
    "name": "ipython",
    "version": 3
   },
   "file_extension": ".py",
   "mimetype": "text/x-python",
   "name": "python",
   "nbconvert_exporter": "python",
   "pygments_lexer": "ipython3",
   "version": "3.9.13"
  }
 },
 "nbformat": 4,
 "nbformat_minor": 2
}
